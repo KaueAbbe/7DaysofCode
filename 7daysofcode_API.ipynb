{
 "cells": [
  {
   "cell_type": "code",
   "execution_count": 1,
   "id": "09e14172",
   "metadata": {},
   "outputs": [],
   "source": [
    "from flask import Flask, request, jsonify\n",
    "import pickle\n",
    "import numpy as np\n",
    "import os\n",
    "import joblib"
   ]
  },
  {
   "cell_type": "code",
   "execution_count": 2,
   "id": "dbd6dd97",
   "metadata": {},
   "outputs": [],
   "source": [
    "app = Flask(__name__)"
   ]
  },
  {
   "cell_type": "code",
   "execution_count": 3,
   "id": "c5843d85",
   "metadata": {},
   "outputs": [],
   "source": [
    "modelo = joblib.load('recomendador_simples.sav')"
   ]
  },
  {
   "cell_type": "code",
   "execution_count": 7,
   "id": "c2a077c4",
   "metadata": {},
   "outputs": [],
   "source": [
    "modelo2 = pickle.load(open('modelo.pkl','rb'))"
   ]
  },
  {
   "cell_type": "code",
   "execution_count": 8,
   "id": "aac04312",
   "metadata": {},
   "outputs": [],
   "source": [
    "# Criando rotas (endponits)\n",
    "@app.route(\"/\")\n",
    "def verifica_api_online():\n",
    "    return \"API online v1.0\", 200"
   ]
  },
  {
   "cell_type": "code",
   "execution_count": 9,
   "id": "378d7944",
   "metadata": {},
   "outputs": [],
   "source": [
    "@app.route('/predict', methods=['POST'])\n",
    "def predict():\n",
    "    dados = request.get_json(force=True)\n",
    "    predicao = modelo.predict(np.array([list(dados.values())]))\n",
    "    resultado = predicao[0]\n",
    "\n",
    "    resposta = {'FILME': int(resultado)}\n",
    "    return jsonify(resposta)"
   ]
  },
  {
   "cell_type": "code",
   "execution_count": 10,
   "id": "5c1b1bb9",
   "metadata": {},
   "outputs": [
    {
     "name": "stdout",
     "output_type": "stream",
     "text": [
      " * Serving Flask app \"__main__\" (lazy loading)\n",
      " * Environment: production\n",
      "   WARNING: This is a development server. Do not use it in a production deployment.\n",
      "   Use a production WSGI server instead.\n",
      " * Debug mode: off\n"
     ]
    },
    {
     "name": "stderr",
     "output_type": "stream",
     "text": [
      " * Running on http://0.0.0.0:5000/ (Press CTRL+C to quit)\n"
     ]
    }
   ],
   "source": [
    "if __name__=='__main__':\n",
    "    port = int(os.environ.get(\"PORT\",5000))\n",
    "    app.run(host = '0.0.0.0', port = port)"
   ]
  },
  {
   "cell_type": "code",
   "execution_count": null,
   "id": "7b6f76d1",
   "metadata": {},
   "outputs": [],
   "source": []
  },
  {
   "cell_type": "code",
   "execution_count": 19,
   "id": "7835a0c2",
   "metadata": {},
   "outputs": [],
   "source": [
    "import uvicorn\n",
    "from fastapi import FastAPI\n",
    "import numpy as np\n",
    "import pickle\n",
    "import pandas as pd"
   ]
  },
  {
   "cell_type": "code",
   "execution_count": 17,
   "id": "7dbd0b94",
   "metadata": {},
   "outputs": [],
   "source": [
    "from fastapi import FastAPI\n",
    "\n",
    "app = FastAPI()\n",
    "\n",
    "\n",
    "@app.get(\"/\")\n",
    "async def root():\n",
    "    return {\"message\": \"Hello World\"}"
   ]
  },
  {
   "cell_type": "code",
   "execution_count": null,
   "id": "1f4a3e3f",
   "metadata": {},
   "outputs": [],
   "source": []
  },
  {
   "cell_type": "code",
   "execution_count": null,
   "id": "05254da3",
   "metadata": {},
   "outputs": [],
   "source": []
  }
 ],
 "metadata": {
  "kernelspec": {
   "display_name": "Python 3",
   "language": "python",
   "name": "python3"
  },
  "language_info": {
   "codemirror_mode": {
    "name": "ipython",
    "version": 3
   },
   "file_extension": ".py",
   "mimetype": "text/x-python",
   "name": "python",
   "nbconvert_exporter": "python",
   "pygments_lexer": "ipython3",
   "version": "3.8.8"
  }
 },
 "nbformat": 4,
 "nbformat_minor": 5
}
