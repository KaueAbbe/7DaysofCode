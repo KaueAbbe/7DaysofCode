{
 "cells": [
  {
   "cell_type": "code",
   "execution_count": 3,
   "id": "5de335d1",
   "metadata": {},
   "outputs": [],
   "source": [
    "import pandas as pd\n",
    "import numpy as np\n",
    "import seaborn as sns\n",
    "import matplotlib.pyplot as plt\n",
    "plt.rc('figure',figsize = (10,7))\n",
    "%matplotlib inline\n",
    "sns.set_palette('Accent')     #Coloquei uma paleta de cores\n",
    "sns.set_style('darkgrid') "
   ]
  },
  {
   "cell_type": "code",
   "execution_count": null,
   "id": "94b94404",
   "metadata": {},
   "outputs": [],
   "source": [
    "df_2018 = pd.read_csv('dados/despesa_ceaps_2018_alterado.csv', sep =';')\n",
    "df_2018.drop(columns = ['SENADOR','TIPO_DESPESA'],inplace= True)\n",
    "df_anual = df_2018.groupby(by='DATA')['VALOR_REEMBOLSADO'].agg({'sum'})\n",
    "for ano in [2019,2020,2021]:\n",
    "    dfano = pd.read_csv('dados/despesa_ceaps_'+str(ano)+'_alterado.csv', sep =';')\n",
    "    dfano.drop(columns = ['SENADOR','TIPO_DESPESA'],inplace = True)\n",
    "    dfnext = dfano.groupby(by='DATA')['VALOR_REEMBOLSADO'].agg({'sum'})\n",
    "    df_anual = pd.concat((df_anual,dfnext),axis = 0)"
   ]
  },
  {
   "cell_type": "code",
   "execution_count": null,
   "id": "ee61d78a",
   "metadata": {},
   "outputs": [],
   "source": []
  },
  {
   "cell_type": "code",
   "execution_count": null,
   "id": "58fdb26d",
   "metadata": {},
   "outputs": [],
   "source": [
    "df_anual.tail()"
   ]
  },
  {
   "cell_type": "code",
   "execution_count": null,
   "id": "90dad1d0",
   "metadata": {},
   "outputs": [],
   "source": [
    "df_anual['data_type'] = df_anual.index\n",
    "df_anual['data'] = df_anual.index\n",
    "df_anual"
   ]
  },
  {
   "cell_type": "code",
   "execution_count": null,
   "id": "48f1f480",
   "metadata": {},
   "outputs": [],
   "source": [
    "df_anual['data_type'] = pd.to_datetime(df_anual['data_type'])"
   ]
  },
  {
   "cell_type": "code",
   "execution_count": null,
   "id": "d1558dbb",
   "metadata": {},
   "outputs": [],
   "source": [
    "df_anual.head()"
   ]
  },
  {
   "cell_type": "code",
   "execution_count": null,
   "id": "b435545b",
   "metadata": {},
   "outputs": [],
   "source": [
    "ax = sns.lineplot(x = 'data_type', y =df_anual['sum'], data = df_anual)\n",
    "ax.figure.set_size_inches(12,6)\n",
    "ax=ax"
   ]
  },
  {
   "cell_type": "markdown",
   "id": "3fd5d425",
   "metadata": {},
   "source": [
    "## importando modelos regressão linear"
   ]
  },
  {
   "cell_type": "code",
   "execution_count": 4,
   "id": "2817b86d",
   "metadata": {},
   "outputs": [],
   "source": [
    "from sklearn.model_selection import train_test_split\n",
    "from sklearn.linear_model import LinearRegression # modelo\n",
    "import datetime as dt"
   ]
  },
  {
   "cell_type": "code",
   "execution_count": null,
   "id": "833f2e3b",
   "metadata": {},
   "outputs": [],
   "source": [
    "df_anual['data_type']=df_anual['data_type'].map(dt.datetime.toordinal)"
   ]
  },
  {
   "cell_type": "code",
   "execution_count": null,
   "id": "afd13f39",
   "metadata": {},
   "outputs": [],
   "source": [
    "\n",
    "y = df_anual['sum']\n",
    "x = df_anual['data_type']"
   ]
  },
  {
   "cell_type": "code",
   "execution_count": null,
   "id": "50ab671b",
   "metadata": {},
   "outputs": [],
   "source": []
  },
  {
   "cell_type": "code",
   "execution_count": null,
   "id": "d321de4a",
   "metadata": {},
   "outputs": [],
   "source": [
    "x = np.array(x)\n",
    "y = np.array(y)"
   ]
  },
  {
   "cell_type": "code",
   "execution_count": null,
   "id": "beedc568",
   "metadata": {},
   "outputs": [],
   "source": [
    "x = x.reshape(-1,1)\n",
    "y = y.reshape(-1,1)"
   ]
  },
  {
   "cell_type": "code",
   "execution_count": null,
   "id": "4652f588",
   "metadata": {},
   "outputs": [],
   "source": [
    "x_train, x_test, y_train, y_test = train_test_split(x, y,test_size = 0.35, random_state = 42)\n",
    "regr = LinearRegression()\n",
    "regr.fit(x_train,y_train)"
   ]
  },
  {
   "cell_type": "code",
   "execution_count": null,
   "id": "4c734f2b",
   "metadata": {},
   "outputs": [],
   "source": [
    "r2_train = regr.score(x_train, y_train)\n",
    "r2_test = regr.score(x_test, y_test)\n",
    "print('R2 no set de treino: %.2f' % r2_train)\n",
    "print('R2 no set de teste: %.2f' % r2_test)"
   ]
  },
  {
   "cell_type": "markdown",
   "id": "78431c1c",
   "metadata": {},
   "source": [
    "#### Com um score de 0,02 o modelo de Regressão Linear não é bom\n",
    "## Outro modelo de machine Learning"
   ]
  },
  {
   "cell_type": "code",
   "execution_count": 5,
   "id": "c714633e",
   "metadata": {},
   "outputs": [],
   "source": [
    "from statsmodels.graphics.tsaplots import plot_acf, plot_pacf\n",
    "from statsmodels.tsa.stattools import adfuller\n",
    "from statsmodels.tsa.arima_model import ARIMA"
   ]
  },
  {
   "cell_type": "code",
   "execution_count": null,
   "id": "cf72f20b",
   "metadata": {},
   "outputs": [],
   "source": [
    "df_2018 = pd.read_csv('dados/despesa_ceaps_2018_alterado.csv', sep =';')\n",
    "df_2018.drop(columns = ['SENADOR','TIPO_DESPESA'],inplace= True)\n",
    "df_anualM = df_2018.groupby(by='DATA')['VALOR_REEMBOLSADO'].agg({'sum'})\n",
    "for ano in [2019,2020,2021]:\n",
    "    dfano = pd.read_csv('dados/despesa_ceaps_'+str(ano)+'_alterado.csv', sep =';')\n",
    "    dfano.drop(columns = ['SENADOR','TIPO_DESPESA'],inplace = True)\n",
    "    dfnext = dfano.groupby(by='DATA')['VALOR_REEMBOLSADO'].agg({'sum'})\n",
    "    df_anualM = pd.concat((df_anualM,dfnext),axis = 0)"
   ]
  },
  {
   "cell_type": "code",
   "execution_count": null,
   "id": "b1cd9076",
   "metadata": {},
   "outputs": [],
   "source": [
    "df_anualM"
   ]
  },
  {
   "cell_type": "code",
   "execution_count": null,
   "id": "a56526c4",
   "metadata": {},
   "outputs": [],
   "source": [
    "plot_acf(df_anualM['sum'].diff().dropna())"
   ]
  },
  {
   "cell_type": "code",
   "execution_count": null,
   "id": "a6469be8",
   "metadata": {},
   "outputs": [],
   "source": [
    "result = adfuller(df_anualM['sum'])\n",
    "result[1]"
   ]
  },
  {
   "cell_type": "markdown",
   "id": "5a91b0fd",
   "metadata": {},
   "source": [
    "d = 1"
   ]
  },
  {
   "cell_type": "code",
   "execution_count": null,
   "id": "c50e28ef",
   "metadata": {},
   "outputs": [],
   "source": [
    "plot_pacf(df_anualM['sum'])"
   ]
  },
  {
   "cell_type": "markdown",
   "id": "59205e1b",
   "metadata": {},
   "source": [
    "p = 1, q = 2 ou 3"
   ]
  },
  {
   "cell_type": "code",
   "execution_count": null,
   "id": "8239e607",
   "metadata": {},
   "outputs": [],
   "source": [
    "from statsmodels.tsa.arima_model import ARIMA\n",
    "import pmdarima as pm\n",
    "\n",
    "df = df_anualM\n",
    "\n",
    "model = pm.auto_arima(df['sum'], start_p=1, start_q=1,\n",
    "                      test='adf',       # use adftest to find optimal 'd'\n",
    "                      max_p=3, max_q=3, # maximum p and q\n",
    "                      m=1,              # frequency of series\n",
    "                      d=None,           # let model determine 'd'\n",
    "                      seasonal=False,   # No Seasonality\n",
    "                      start_P=0, \n",
    "                      D=0, \n",
    "                      trace=True,\n",
    "                      error_action='ignore',  \n",
    "                      suppress_warnings=True, \n",
    "                      stepwise=True)\n",
    "\n",
    "print(model.summary())"
   ]
  },
  {
   "cell_type": "code",
   "execution_count": null,
   "id": "7e9d38b2",
   "metadata": {},
   "outputs": [],
   "source": [
    "arima_model = ARIMA(df_anualM['sum'],order=(3,0,2))\n",
    "model = arima_model.fit()\n",
    "print(model.summary())"
   ]
  },
  {
   "cell_type": "code",
   "execution_count": null,
   "id": "eb2f9b5a",
   "metadata": {},
   "outputs": [],
   "source": [
    "residuals = pd.DataFrame(model.resid)\n",
    "fig, ax = plt.subplots(1,2)\n",
    "residuals.plot(title=\"Residuals\", ax=ax[0])\n",
    "residuals.plot(kind='kde', title='Density', ax=ax[1])\n",
    "plt.show()"
   ]
  },
  {
   "cell_type": "code",
   "execution_count": null,
   "id": "afc6d802",
   "metadata": {},
   "outputs": [],
   "source": [
    "plt.figure(figsize = (10,10))\n",
    "model.plot_predict(dynamic=False, plot_insample = False)\n",
    "model.plot_predict(dynamic=False)\n",
    "plt.show()"
   ]
  },
  {
   "cell_type": "code",
   "execution_count": null,
   "id": "a445f926",
   "metadata": {},
   "outputs": [],
   "source": [
    "model.plot_predict(start = df_anualM.index[1000], dynamic=False)"
   ]
  },
  {
   "cell_type": "code",
   "execution_count": null,
   "id": "e25bc950",
   "metadata": {},
   "outputs": [],
   "source": [
    "df2022 = df_2018 = pd.read_csv('dados/despesa_ceaps_2022_alterado.csv', sep =';')\n",
    "df2022.drop(columns = ['SENADOR','TIPO_DESPESA'],inplace= True)\n",
    "df2022 = df2022.groupby(by='DATA')['VALOR_REEMBOLSADO'].agg({'sum'})\n",
    "df2022['data'] = df2022.index\n",
    "df2022['data'] = pd.to_datetime(df2022['data'])"
   ]
  },
  {
   "cell_type": "code",
   "execution_count": null,
   "id": "3057cd6f",
   "metadata": {},
   "outputs": [],
   "source": [
    "fc, se, conf = model.forecast(123, alpha = 0.05)\n",
    "fc_series = pd.Series(fc, df2022.index)\n",
    "lower_series = pd.Series(conf[:,0],df2022.index)\n",
    "upper_series = pd.Series(conf[:,1],df2022.index)\n",
    "fc_series"
   ]
  },
  {
   "cell_type": "code",
   "execution_count": null,
   "id": "4e47bde1",
   "metadata": {},
   "outputs": [],
   "source": [
    "df2022['sum']"
   ]
  },
  {
   "cell_type": "code",
   "execution_count": null,
   "id": "a31543f9",
   "metadata": {},
   "outputs": [],
   "source": [
    "plt.figure(figsize=(12,5), dpi=100)\n",
    "plt.plot(df2022['sum'], label='actual')\n",
    "plt.plot(fc_series, label='forecast')\n",
    "plt.legend(loc='upper left', fontsize=8)"
   ]
  },
  {
   "cell_type": "code",
   "execution_count": 6,
   "id": "f768c78c",
   "metadata": {},
   "outputs": [],
   "source": [
    "from sklearn.metrics import mean_squared_error"
   ]
  },
  {
   "cell_type": "code",
   "execution_count": null,
   "id": "76455673",
   "metadata": {},
   "outputs": [],
   "source": [
    "y_actual = np.array(df2022['sum'])\n",
    "y_test = np.array(fc_series)\n",
    "r2 = np.sqrt(mean_squared_error(y_actual,y_test))\n",
    "print(r2)"
   ]
  },
  {
   "cell_type": "code",
   "execution_count": null,
   "id": "a3df80c6",
   "metadata": {},
   "outputs": [],
   "source": []
  },
  {
   "cell_type": "markdown",
   "id": "e2cd5285",
   "metadata": {},
   "source": [
    "## O mês seguinte é a média dos últimos três meses?"
   ]
  },
  {
   "cell_type": "code",
   "execution_count": 8,
   "id": "46e04dfc",
   "metadata": {},
   "outputs": [],
   "source": [
    "df_2018 = pd.read_csv('dados/despesa_ceaps_2018_alterado.csv', sep =';')\n",
    "df_2018.drop(columns = ['SENADOR','TIPO_DESPESA'],inplace= True)\n",
    "df_anual = df_2018.groupby(by='MES')['VALOR_REEMBOLSADO'].agg({'mean'})\n",
    "for ano in [2019,2020,2021]:\n",
    "    dfano = pd.read_csv('dados/despesa_ceaps_'+str(ano)+'_alterado.csv', sep =';')\n",
    "    dfano.drop(columns = ['SENADOR','TIPO_DESPESA'],inplace = True)\n",
    "    dfnext = dfano.groupby(by='MES')['VALOR_REEMBOLSADO'].agg({'mean'})\n",
    "    df_anual = pd.concat((df_anual,dfnext),axis = 0)"
   ]
  },
  {
   "cell_type": "code",
   "execution_count": 13,
   "id": "59f64ee7",
   "metadata": {},
   "outputs": [],
   "source": [
    "df_mensal = df_anual.groupby(by= 'MES')['mean'].agg({'mean','std'})"
   ]
  },
  {
   "cell_type": "code",
   "execution_count": 17,
   "id": "dbd70fb1",
   "metadata": {},
   "outputs": [
    {
     "data": {
      "text/plain": [
       "<seaborn.axisgrid.FacetGrid at 0x2639c641730>"
      ]
     },
     "execution_count": 17,
     "metadata": {},
     "output_type": "execute_result"
    },
    {
     "data": {
      "image/png": "[encoded data removed]",
      "text/plain": [
       "<Figure size 360x360 with 1 Axes>"
      ]
     },
     "metadata": {},
     "output_type": "display_data"
    }
   ],
   "source": [
    "sns.relplot(x = df_mensal.index, y = 'mean', data = df_mensal)"
   ]
  },
  {
   "cell_type": "code",
   "execution_count": 25,
   "id": "e5d990ec",
   "metadata": {},
   "outputs": [],
   "source": [
    "x = np.array(df_mensal.index).reshape(-1,1)\n",
    "y = np.array(df_mensal['mean']).reshape(-1,1)"
   ]
  },
  {
   "cell_type": "code",
   "execution_count": 20,
   "id": "e35b6392",
   "metadata": {},
   "outputs": [
    {
     "data": {
      "text/plain": [
       "LinearRegression()"
      ]
     },
     "execution_count": 20,
     "metadata": {},
     "output_type": "execute_result"
    }
   ],
   "source": [
    "x_train, x_test, y_train, y_test = train_test_split(x, y,test_size = 0.35, random_state = 42)\n",
    "regr = LinearRegression()\n",
    "regr.fit(x_train,y_train)"
   ]
  },
  {
   "cell_type": "code",
   "execution_count": 41,
   "id": "d3cc2d94",
   "metadata": {},
   "outputs": [
    {
     "name": "stdout",
     "output_type": "stream",
     "text": [
      "R2 no set de treino: 0.57\n"
     ]
    }
   ],
   "source": [
    "r2_train = regr.score(x_train, y_train)\n",
    "print('R2 no set de treino: %.2f' % r2_train)"
   ]
  },
  {
   "cell_type": "code",
   "execution_count": 22,
   "id": "64643002",
   "metadata": {},
   "outputs": [],
   "source": [
    "coef = regr.coef_\n",
    "interct = regr.intercept_"
   ]
  },
  {
   "cell_type": "code",
   "execution_count": 27,
   "id": "9729bc2d",
   "metadata": {},
   "outputs": [],
   "source": [
    "ytested = x*coef + interct "
   ]
  },
  {
   "cell_type": "code",
   "execution_count": 28,
   "id": "220b313b",
   "metadata": {},
   "outputs": [
    {
     "data": {
      "text/plain": [
       "array([[1079.23784081],\n",
       "       [1132.32142227],\n",
       "       [1185.40500373],\n",
       "       [1238.48858519],\n",
       "       [1291.57216665],\n",
       "       [1344.65574811],\n",
       "       [1397.73932957],\n",
       "       [1450.82291103],\n",
       "       [1503.90649249],\n",
       "       [1556.99007395],\n",
       "       [1610.07365541],\n",
       "       [1663.15723687]])"
      ]
     },
     "execution_count": 28,
     "metadata": {},
     "output_type": "execute_result"
    }
   ],
   "source": [
    "ytested"
   ]
  },
  {
   "cell_type": "code",
   "execution_count": 37,
   "id": "98b04be4",
   "metadata": {},
   "outputs": [
    {
     "data": {
      "text/plain": [
       "<seaborn.axisgrid.FacetGrid at 0x2639cb40ac0>"
      ]
     },
     "execution_count": 37,
     "metadata": {},
     "output_type": "execute_result"
    },
    {
     "data": {
      "image/png": "[encoded data removed]",
      "text/plain": [
       "<Figure size 360x360 with 1 Axes>"
      ]
     },
     "metadata": {},
     "output_type": "display_data"
    }
   ],
   "source": [
    "sns.relplot(x = df_mensal.index, y = 'mean', data = df_mensal)"
   ]
  },
  {
   "cell_type": "code",
   "execution_count": 36,
   "id": "2792cd29",
   "metadata": {},
   "outputs": [
    {
     "data": {
      "text/plain": [
       "<matplotlib.collections.PathCollection at 0x2639cfbb970>"
      ]
     },
     "execution_count": 36,
     "metadata": {},
     "output_type": "execute_result"
    },
    {
     "data": {
      "image/png": "[encoded data removed]",
      "text/plain": [
       "<Figure size 432x288 with 1 Axes>"
      ]
     },
     "metadata": {},
     "output_type": "display_data"
    }
   ],
   "source": [
    "plt.scatter(x = df_mensal.index, y = ytested.reshape(-1,1))"
   ]
  },
  {
   "cell_type": "code",
   "execution_count": 42,
   "id": "6b9b0005",
   "metadata": {},
   "outputs": [
    {
     "name": "stdout",
     "output_type": "stream",
     "text": [
      "169.39\n"
     ]
    }
   ],
   "source": [
    "r2 = np.sqrt(mean_squared_error(y,ytested)).round(2)\n",
    "print(r2)"
   ]
  },
  {
   "cell_type": "code",
   "execution_count": 45,
   "id": "8a09f19b",
   "metadata": {},
   "outputs": [
    {
     "data": {
      "text/plain": [
       "11.180019361508355"
      ]
     },
     "execution_count": 45,
     "metadata": {},
     "output_type": "execute_result"
    }
   ],
   "source": [
    "np.mean((np.abs((y - ytested)/y))*100)"
   ]
  },
  {
   "cell_type": "markdown",
   "id": "36fb2d83",
   "metadata": {},
   "source": [
    "## Será que o modelo acerta somente para 2019"
   ]
  },
  {
   "cell_type": "code",
   "execution_count": 58,
   "id": "c813008a",
   "metadata": {},
   "outputs": [
    {
     "data": {
      "text/plain": [
       "13.869664923925809"
      ]
     },
     "execution_count": 58,
     "metadata": {},
     "output_type": "execute_result"
    }
   ],
   "source": [
    "df_anos = pd.read_csv('dados/despesa_ceaps_2021_alterado.csv', sep =';')\n",
    "df_anos.drop(columns = ['SENADOR','TIPO_DESPESA'],inplace= True)\n",
    "df_anos = df_anos.groupby(by='MES')['VALOR_REEMBOLSADO'].agg({'mean'})\n",
    "yanos = np.array(df_anos['mean'])\n",
    "np.mean((np.abs((yanos - ytested)/yanos))*100)"
   ]
  },
  {
   "cell_type": "code",
   "execution_count": null,
   "id": "40da4677",
   "metadata": {},
   "outputs": [],
   "source": []
  }
 ],
 "metadata": {
  "kernelspec": {
   "display_name": "Python 3",
   "language": "python",
   "name": "python3"
  },
  "language_info": {
   "codemirror_mode": {
    "name": "ipython",
    "version": 3
   },
   "file_extension": ".py",
   "mimetype": "text/x-python",
   "name": "python",
   "nbconvert_exporter": "python",
   "pygments_lexer": "ipython3",
   "version": "3.8.8"
  }
 },
 "nbformat": 4,
 "nbformat_minor": 5
}
