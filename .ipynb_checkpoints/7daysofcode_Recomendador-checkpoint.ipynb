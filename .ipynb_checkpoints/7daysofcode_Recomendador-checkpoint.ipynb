{
 "cells": [
  {
   "cell_type": "markdown",
   "id": "2edde5c4",
   "metadata": {},
   "source": [
    "## Abrindo o df arrumado"
   ]
  },
  {
   "cell_type": "code",
   "execution_count": 2,
   "id": "25e66e75",
   "metadata": {},
   "outputs": [],
   "source": [
    "import pandas as pd\n",
    "import surprise\n",
    "#from sklearn.decomposition import TruncatedSVD"
   ]
  },
  {
   "cell_type": "code",
   "execution_count": 3,
   "id": "5a8ab931",
   "metadata": {},
   "outputs": [
    {
     "name": "stdout",
     "output_type": "stream",
     "text": [
      "Computing the msd similarity matrix...\n",
      "Done computing similarity matrix.\n",
      "RMSE: 0.9542\n",
      "Valor da acurâcia: 0.954188360971078\n"
     ]
    }
   ],
   "source": [
    "dfdata = pd.read_csv('movielens/u.DATA', sep = \"\\t\" )\n",
    "dfmovie = pd.read_csv('movielens/u.item', sep = \"|\" )\n",
    "dfmovie.set_index('movieid', inplace = True)\n",
    "\n",
    "#Criamos novos df com rating que tinha mais de 100 votos\n",
    "new_movies = dfdata.groupby(by ='item id').filter(lambda x: x['rating'].count() >= 100 )\n",
    "new_movies.drop(columns = ['timestamp'], inplace = True)\n",
    "\n",
    "\n",
    "## Criando o modelo\n",
    "# Ler o dataset que será passado\n",
    "reader = surprise.Reader(rating_scale = (1,5))\n",
    "data = surprise.Dataset.load_from_df(new_movies,reader)\n",
    "\n",
    "#Split dos dados\n",
    "trainset, testset = surprise.model_selection.train_test_split(data,test_size = 0.3, random_state = 10 )\n",
    "\n",
    "# Criação do modelo simples\n",
    "algo = surprise.KNNBasic(k = 40,min_k = 5,sim_options={'user_based':False},verbose = True)\n",
    "algo.fit(trainset)\n",
    "\n",
    "teste_pred = algo.test(testset)\n",
    "\n",
    "rmse = surprise.accuracy.rmse(teste_pred,verbose = True)\n",
    "print(f'Valor da acurâcia: {rmse}')\n",
    "\n",
    "#Entre parênteses vai (id do filme, quanitidade de vizinhos)\n",
    "#recomendado = algo.get_neighbors(327,10)\n",
    "#dfmovie.iloc[recomendado]['movie title']\n",
    "\n",
    "#função recomendador:\n",
    "def recomendador(idf, quant):\n",
    "    recomended = algo.get_neighbors(idf,quant)\n",
    "    return dfmovie.iloc[recomended]['movie title']"
   ]
  },
  {
   "cell_type": "markdown",
   "id": "62fdd836",
   "metadata": {},
   "source": [
    "## Utilizando o recomendador"
   ]
  },
  {
   "cell_type": "code",
   "execution_count": 8,
   "id": "11be317a",
   "metadata": {},
   "outputs": [
    {
     "data": {
      "text/plain": [
       "movieid\n",
       "263                                     Steel (1997)\n",
       "47                                    Ed Wood (1994)\n",
       "140    Homeward Bound: The Incredible Journey (1993)\n",
       "130                               Kansas City (1996)\n",
       "240           Beavis and Butt-head Do America (1996)\n",
       "Name: movie title, dtype: object"
      ]
     },
     "execution_count": 8,
     "metadata": {},
     "output_type": "execute_result"
    }
   ],
   "source": [
    "recomendador(66, 5)"
   ]
  }
 ],
 "metadata": {
  "kernelspec": {
   "display_name": "Python 3",
   "language": "python",
   "name": "python3"
  },
  "language_info": {
   "codemirror_mode": {
    "name": "ipython",
    "version": 3
   },
   "file_extension": ".py",
   "mimetype": "text/x-python",
   "name": "python",
   "nbconvert_exporter": "python",
   "pygments_lexer": "ipython3",
   "version": "3.8.8"
  }
 },
 "nbformat": 4,
 "nbformat_minor": 5
}
